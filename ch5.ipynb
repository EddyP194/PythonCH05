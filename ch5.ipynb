{
 "cells": [
  {
   "cell_type": "code",
   "execution_count": 1,
   "metadata": {},
   "outputs": [
    {
     "name": "stdout",
     "output_type": "stream",
     "text": [
      "9\n",
      "5\n"
     ]
    }
   ],
   "source": [
    "# Make a code to get one integer value and print it \n",
    "\n",
    "def getinput():\n",
    "    val = int(input())\n",
    "    return val\n",
    "\n",
    "num3 = getinput()\n",
    "print (num3)"
   ]
  },
  {
   "cell_type": "code",
   "execution_count": 5,
   "metadata": {},
   "outputs": [
    {
     "name": "stdout",
     "output_type": "stream",
     "text": [
      "9\n"
     ]
    }
   ],
   "source": [
    "# get two integer values and print the sum\n",
    "# use the function getinput() and getsum()\n",
    "\n",
    "def getsum(x, y): # parameters\n",
    "    val = x + y\n",
    "    return val\n",
    "\n",
    "num1 = getinput()\n",
    "num2 = getinput()\n",
    "total = getsum(num1, num2) # arguments (num1, num2)\n",
    "\n",
    "print (total)"
   ]
  },
  {
   "cell_type": "code",
   "execution_count": 9,
   "metadata": {},
   "outputs": [
    {
     "name": "stdout",
     "output_type": "stream",
     "text": [
      "False\n"
     ]
    }
   ],
   "source": [
    "# Make a function to decide the given number is even or not\n",
    "# if the number is even, return 0 otherwise return 1\n",
    "\n",
    "def isEven(num):\n",
    "    val = True if num % 2 == 0 else False\n",
    "    return val\n",
    "\n",
    "num = getinput()\n",
    "result = isEven(num)\n",
    "print(result)"
   ]
  },
  {
   "cell_type": "code",
   "execution_count": 12,
   "metadata": {},
   "outputs": [
    {
     "name": "stdout",
     "output_type": "stream",
     "text": [
      "10\t20\t30\t40\t50\t"
     ]
    }
   ],
   "source": [
    "def printit(myList):\n",
    "    for v in myList:\n",
    "        print(v, end='\\t')\n",
    "    print()\n",
    "\n",
    "myList = [10, 20, 30, 40, 50]\n",
    "\n",
    "printit(myList)"
   ]
  },
  {
   "cell_type": "code",
   "execution_count": 21,
   "metadata": {},
   "outputs": [
    {
     "name": "stdout",
     "output_type": "stream",
     "text": [
      "10 15 5 \n",
      "average is 17.5\n",
      "\n",
      "[10, 15, 20, 25, 30, 5]\n"
     ]
    }
   ],
   "source": [
    "# Print all elements which are less than average\n",
    "def printList(numbers):\n",
    "    average = sum(numbers) / len(numbers)\n",
    "\n",
    "    for i in range(len(numbers)):\n",
    "        if numbers[i] < average:\n",
    "            print(numbers[i], end=' ')\n",
    "    print(f'\\naverage is {average}')\n",
    "    print(f'\\n{numbers}')\n",
    "\n",
    "numbers = [10, 15, 20, 25, 30, 5]\n",
    "printList(numbers)"
   ]
  },
  {
   "cell_type": "code",
   "execution_count": 22,
   "metadata": {},
   "outputs": [
    {
     "name": "stdout",
     "output_type": "stream",
     "text": [
      "5\n"
     ]
    }
   ],
   "source": [
    "def getinput():\n",
    "    val = int(input())\n",
    "    return val\n",
    "\n",
    "def main():\n",
    "    userval = getinput()\n",
    "    print (userval)\n",
    "    \n",
    "if __name__ == '__main__':\n",
    "    main()"
   ]
  },
  {
   "cell_type": "code",
   "execution_count": 27,
   "metadata": {},
   "outputs": [
    {
     "name": "stdout",
     "output_type": "stream",
     "text": [
      "The value of parameter n1 and n2 are 787878787 and 9\n",
      "The value of a and b are 787878787 and 9\n"
     ]
    }
   ],
   "source": [
    "def getinput(n1, n2):\n",
    "\tn1 = input()\n",
    "\tn2 = input()\n",
    "\tprint (\"The value of parameter n1 and n2 are {0} and {1}\".format(n1, n2))\n",
    "\treturn n1, n2\n",
    "\n",
    "def main():\n",
    "\ta = 0; b = 0\n",
    "\ta, b = getinput(a, b)\n",
    "\tprint (\"The value of a and b are {0} and {1}\".format(a, b))\n",
    "\n",
    "if __name__ == '__main__':\n",
    "\tmain()"
   ]
  },
  {
   "cell_type": "code",
   "execution_count": 29,
   "metadata": {},
   "outputs": [
    {
     "name": "stdout",
     "output_type": "stream",
     "text": [
      "[10, 20, 100]\n"
     ]
    }
   ],
   "source": [
    "myList1 = [10, 20, 30]\n",
    "\n",
    "myList2 = myList1\n",
    "myList2[2] = 100\n",
    "\n",
    "print(myList1)"
   ]
  },
  {
   "cell_type": "code",
   "execution_count": 30,
   "metadata": {},
   "outputs": [
    {
     "data": {
      "text/plain": [
       "[999, 0, 0]"
      ]
     },
     "execution_count": 30,
     "metadata": {},
     "output_type": "execute_result"
    }
   ],
   "source": [
    "def changeme(lst):\n",
    "    lst[0] = 999\n",
    "\n",
    "mylst = [0, 0, 0]\n",
    "changeme(mylst)\n",
    "\n",
    "mylst"
   ]
  }
 ],
 "metadata": {
  "kernelspec": {
   "display_name": "base",
   "language": "python",
   "name": "python3"
  },
  "language_info": {
   "codemirror_mode": {
    "name": "ipython",
    "version": 3
   },
   "file_extension": ".py",
   "mimetype": "text/x-python",
   "name": "python",
   "nbconvert_exporter": "python",
   "pygments_lexer": "ipython3",
   "version": "3.12.4"
  }
 },
 "nbformat": 4,
 "nbformat_minor": 2
}
