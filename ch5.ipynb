{
 "cells": [
  {
   "cell_type": "code",
   "execution_count": 1,
   "metadata": {},
   "outputs": [
    {
     "name": "stdout",
     "output_type": "stream",
     "text": [
      "9\n",
      "5\n"
     ]
    }
   ],
   "source": [
    "# Make a code to get one integer value and print it \n",
    "\n",
    "def getinput():\n",
    "    val = int(input())\n",
    "    return val\n",
    "\n",
    "num3 = getinput()\n",
    "print (num3)"
   ]
  },
  {
   "cell_type": "code",
   "execution_count": 5,
   "metadata": {},
   "outputs": [
    {
     "name": "stdout",
     "output_type": "stream",
     "text": [
      "9\n"
     ]
    }
   ],
   "source": [
    "# get two integer values and print the sum\n",
    "# use the function getinput() and getsum()\n",
    "\n",
    "def getsum(x, y): # parameters\n",
    "    val = x + y\n",
    "    return val\n",
    "\n",
    "num1 = getinput()\n",
    "num2 = getinput()\n",
    "total = getsum(num1, num2) # arguments (num1, num2)\n",
    "\n",
    "print (total)"
   ]
  },
  {
   "cell_type": "code",
   "execution_count": 9,
   "metadata": {},
   "outputs": [
    {
     "name": "stdout",
     "output_type": "stream",
     "text": [
      "False\n"
     ]
    }
   ],
   "source": [
    "# Make a function to decide the given number is even or not\n",
    "# if the number is even, return 0 otherwise return 1\n",
    "\n",
    "def isEven(num):\n",
    "    val = True if num % 2 == 0 else False\n",
    "    return val\n",
    "\n",
    "num = getinput()\n",
    "result = isEven(num)\n",
    "print(result)"
   ]
  }
 ],
 "metadata": {
  "kernelspec": {
   "display_name": "base",
   "language": "python",
   "name": "python3"
  },
  "language_info": {
   "codemirror_mode": {
    "name": "ipython",
    "version": 3
   },
   "file_extension": ".py",
   "mimetype": "text/x-python",
   "name": "python",
   "nbconvert_exporter": "python",
   "pygments_lexer": "ipython3",
   "version": "3.12.4"
  }
 },
 "nbformat": 4,
 "nbformat_minor": 2
}
